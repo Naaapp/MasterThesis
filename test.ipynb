{
 "cells": [
  {
   "cell_type": "code",
   "execution_count": null,
   "metadata": {
    "pycharm": {
     "is_executing": true
    }
   },
   "outputs": [],
   "source": [
    "\n",
    "\n",
    "# Master Thesis (Théo Stassen, Université de Liège) :\n",
    "# \"Comparison of probabilistic forecasting deep learning models in the context of renewable energy production\"\n",
    "#\n",
    "# - main function example\n",
    "# OSError: libcudart.so.9.2: cannot open shared object file: No such file or directory ->\n",
    "# sudo ldconfig /usr/local/cuda/lib64\n",
    "\n",
    "from comparison import compare_simple_feed_forward\n",
    "\n",
    "config = \"a\"\n",
    "goal = \"1\"\n",
    "\n",
    "chosen_metrics = [\"Coverage\", \"MASE\"]\n",
    "quantiles = list([0.005, 0.05, 0.25, 0.5, 0.75, 0.95, 0.995])\n",
    "\n",
    "alpha = None\n",
    "epochs = None\n",
    "datasize = None\n",
    "distribution = None\n",
    "\n",
    "num_hidden_dimensions = [[100], [40, 40], [40, 100], [100, 40], [200]]\n",
    "compare_simple_feed_forward(datasize, distribution, alpha, chosen_metrics, epochs, num_hidden_dimensions, quantiles, config, 1, goal)"
   ]
  },
  {
   "cell_type": "code",
   "execution_count": null,
   "metadata": {},
   "outputs": [],
   "source": []
  }
 ],
 "metadata": {
  "kernelspec": {
   "display_name": "Python 3",
   "language": "python",
   "name": "python3"
  },
  "language_info": {
   "codemirror_mode": {
    "name": "ipython",
    "version": 2
   },
   "file_extension": ".py",
   "mimetype": "text/x-python",
   "name": "python",
   "nbconvert_exporter": "python",
   "pygments_lexer": "ipython2",
   "version": "2.7.6"
  },
  "pycharm": {
   "stem_cell": {
    "cell_type": "raw",
    "metadata": {
     "collapsed": false
    },
    "source": []
   }
  }
 },
 "nbformat": 4,
 "nbformat_minor": 1
}
