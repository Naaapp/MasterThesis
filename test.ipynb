
# Master Thesis (Théo Stassen, Université de Liège) :
# "Comparison of probabilistic forecasting deep learning models in the context of renewable energy production"
#
# - main function example
# OSError: libcudart.so.9.2: cannot open shared object file: No such file or directory ->
# sudo ldconfig /usr/local/cuda/lib64

from comparison import compare_simple_feed_forward

config = "a"
goal = "1"

chosen_metrics = ["Coverage", "MASE"]
quantiles = list([0.005, 0.05, 0.25, 0.5, 0.75, 0.95, 0.995])

alpha = None
epochs = None
datasize = None
distribution = None

num_hidden_dimensions = [[100], [40, 40], [40, 100], [100, 40], [200]]
compare_simple_feed_forward(datasize, distribution, alpha, chosen_metrics, epochs, num_hidden_dimensions, quantiles, config, 1, goal)
