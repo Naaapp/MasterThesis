{
 "cells": [
  {
   "cell_type": "markdown",
   "metadata": {
    "collapsed": true,
    "pycharm": {
     "name": "#%% md\n"
    }
   },
   "source": [
    "\n",
    "# Master Thesis Presentation Notebook\n",
    "## by Théo Stassen\n",
    "\n",
    "This notebook presents the test protocol implemented for the purpose of the Master Thesis. \n",
    "The goal is the comparison of different probabilistic forecasting models and techniques, mainly from the deep learning field, \n",
    "in the context of the prediction of wind turbines production.\n",
    "\n",
    "The code uses GluonTS, a toolkit which contains components and tools for building time series models using MXNet"
   ]
  },
  {
   "cell_type": "markdown",
   "metadata": {
    "pycharm": {
     "name": "#%% md\n"
    }
   },
   "source": [
    "Concerning the installation, to run of the code, are need to be installed \n",
    "(see https://gluon-ts.mxnet.io/install.html) :\n",
    "\n",
    "- mxnet, using pip, in a compatible version with gluon ts (>=1.3.1,< 1.5.*, cpu only or with gpu support)  \n",
    "- If you want gpu support, you need a compatible Nvidia gpu, and a compatible version (8.0, 9.0, or 9.2) of \n",
    "CUDA (and check after installation if working properly)\n",
    "- gluonts, using pip"
   ]
  },
  {
   "cell_type": "code",
   "execution_count": 23,
   "metadata": {
    "pycharm": {
     "is_executing": false,
     "name": "#%%\n"
    }
   },
   "outputs": [],
   "source": [
    "# Third party imports\n",
    "import matplotlib.pyplot as plt\n",
    "import math\n",
    "import pandas as pd\n",
    "import numpy as np\n",
    "import scipy\n",
    "import dataset as dt # Custom file containing class definition of Dataset\n",
    "\n",
    "# In case of this error : \n",
    "# OSError: libcudart.so.9.2: cannot open shared object file: No such file or directory \n",
    "# if you are on (ubuntu) linux, do : sudo ldconfig /usr/local/cuda/lib64"
   ]
  },
  {
   "cell_type": "markdown",
   "metadata": {
    "pycharm": {
     "name": "#%% md\n"
    }
   },
   "source": [
    "## Dataset Import\n",
    "\n",
    "The project need some input data. In this version, the input files are in /datasets.\n",
    "They are array of values. GluonTS needs, to create datasets, some information .\n",
    "   In general, the datasets defined by GluonTS are objects that consists of three main members:\n",
    "\n",
    "- `dataset.train` is an iterable collection of data entries used for training. Each entry corresponds to one time series\n",
    "- `dataset.test` is an iterable collection of data entries used for inference. The test dataset is an extended version \n",
    "of the train dataset that contains a window in the end of each time series that was not seen during training. \n",
    "This window has length equal to the prediction length.\n",
    "- `dataset.metadata` contains metadata of the dataset such as the frequency of the time series, the context (training) length\n",
    "a prediction length, associated features (if we want to combine the temporal series information with other data), etc.\n",
    "\n",
    "\n",
    "  All the models will use the data by splitting the time series (with a method that we can precise) into pieces of size \n",
    "  learning (\"context\") + predict length, on which they will train and predict.\n",
    "  \n",
    "  In this first version, only one array is imported and all the time series corresponds to the same source. \n",
    "  Precisely, we import the `6months-minutes.csv` file. The first idea was to use it as a single time serie, but\n",
    "  unfortunately it implied very long training time, about 120s per epochs (100 epochs recommended). The data was correctly \n",
    "  splitted but Mxnet is not optimised for this situation. The solution is to split manually the 6 month into \n",
    "  different time series. The natural choice is to split into days. We have so 183 samples/time series of length 1440 time steps\n",
    "  with a frequency of 1 minute. Each value is also divided by 1000 because it was causing loss problems without that.\n",
    "  In future version we could import and combine the data of multiple sources as a single training/testing dataset, \n",
    "  or use multiple sources for training and one another for testing, as\n",
    "  it is asked.\n",
    "  We can also make other split size than 1 day. The \"batch\" size will be easily defined as\n",
    "   an hyper parameter. The global hyper parameters\n",
    "  are not already tested.\n",
    "  \n",
    "  The goal is to predict the production in a window of 10 minutes, which means 10 time steps.\n",
    "  "
   ]
  },
  {
   "cell_type": "code",
   "execution_count": 24,
   "metadata": {
    "pycharm": {
     "is_executing": false,
     "name": "#%%\n"
    }
   },
   "outputs": [],
   "source": [
    "df = pd.read_csv(\"datasets/6months-minutes.csv\")\n",
    "imported_dataset = np.array([df['Active Power'].to_numpy()])\n",
    "n_sample = 183\n",
    "imported_dataset = imported_dataset.reshape(n_sample, -1)  # Split by days\n",
    "imported_dataset = imported_dataset / 1000\n",
    "prediction_length = 10\n",
    "context_length = 60 * 1  \n",
    "freq = \"1min\"\n",
    "start = pd.Timestamp(\"01-04-2019\", freq=freq)\n",
    "dataset = dt.Dataset(custom_dataset=imported_dataset, start=start, freq=freq,\n",
    "                     prediction_length=prediction_length,\n",
    "                     learning_length=context_length)"
   ]
  },
  {
   "cell_type": "markdown",
   "metadata": {
    "pycharm": {
     "name": "#%% md\n"
    }
   },
   "source": [
    "## Quantiles\n",
    "\n",
    "In this project, the subject is the probabilistic forecasting of wind turbines time series but the goal is not really\n",
    "to minimize the difference (in any ways to consider it) between the predicted values and the observed values.\n",
    "The goal is to obtain a distribution of probability of the future values which have the more correct \"safety\" quantile\n",
    "window (the space between the upper \"security\" quantile and the lower \"security\" quantile) . \n",
    "We want a model which tells us that there are 99% (or another security value) chance that the real value of production \n",
    "will be in this window and that affirmation must be exact, or at least the windows size must be overestimate, not\n",
    "underestimate.\n",
    "But the goal is also to obtain the thinner estimation window. \n",
    "We want a balance between not underestimate the safety window and the \"precision\" of the predict.\n",
    "\n",
    "The quantile list contains the values of quantiles that are useful for us, and on which\n",
    "the models that needs it will use. We want a 99% security probability so we consider the \n",
    "[0.005, 0.995] window and we compute also the 90% and 50% precision to have a gradual comparison."
   ]
  },
  {
   "cell_type": "code",
   "execution_count": 25,
   "metadata": {
    "pycharm": {
     "is_executing": false,
     "name": "#%%\n"
    }
   },
   "outputs": [],
   "source": [
    "quantiles = list([0.005, 0.05, 0.25, 0.5, 0.75, 0.95, 0.995])"
   ]
  },
  {
   "cell_type": "markdown",
   "metadata": {
    "pycharm": {
     "name": "#%% md\n"
    }
   },
   "source": [
    "## Metrics\n",
    "\n",
    "To observe if the models performs well, to observe their quality considering the goals that are fixed, we \n",
    "need to choose the appropriate metrics. GluonTS proposes some metrics to evaluate models (MSE, MSIS, etc).\n",
    "\n",
    "Concerning the correctness of the quantiles, none of the GluonTS metric is satisfying for this purpose. The proposed \n",
    "metric, \"Coverage\" is a simple combination of two of them. For a security limit of k :  \n",
    "\n",
    "$Coverage = (k - coverage(k)) - (coverage(1-k) - (1-k)) $\n",
    "\n",
    "With coverage(x), a GluonTS implemented metric which give the observed probability to have an value below the quantile x.\n",
    "If the distribution is perfect the coverage of x must tends to the value x. For the upper quantile of the window,\n",
    " if coverage(x) > x, the quantile is too high (the window is too large) and\n",
    "if coverage(x) < x the quantile is too low. And it is the opposite for the lower quantile.\n",
    "For a 99% precision the security limit is 0.995. \n",
    "\n",
    "$Coverage = (0.995 - coverage(0.995)) - (coverage(0.005) - 0.005) $\n",
    "\n",
    "To observe if the distribution is large, we compute a custom metric which is simply the mean of the difference between \n",
    "the quantile(k) and quantile(1-k). For a time serie :\n",
    "\n",
    "$$Bandwidth = \\frac{1}{p}  \\sum_{i=0}^{p-1} quantile_{i}(k) - quantile_{i}(1-k) $$\n",
    "\n",
    "Where p is the number of time step and $quantile_{i}$ the value of the quantile at time step i\n"
   ]
  },
  {
   "cell_type": "code",
   "execution_count": 26,
   "metadata": {
    "pycharm": {
     "is_executing": false,
     "name": "#%%\n"
    }
   },
   "outputs": [],
   "source": [
    "chosen_metric = \"Coverage\""
   ]
  },
  {
   "cell_type": "markdown",
   "metadata": {
    "pycharm": {
     "name": "#%% md\n"
    }
   },
   "source": [
    "## Custom loss\n",
    "\n",
    "As explained in the previous sections, we want the model to give precise estimation of the quantiles.\n",
    "The different models presented in the following sections will give more or less good results but we can interrogate how \n",
    "the model consider that it is itself good and if we want to modify this.\n",
    "In most of the models, the loss function is the inverse of the log-density of the output distribution.\n",
    "If $ \\mu $ and $ \\sigma $ are the parameters of the distribution output (in the case of a gaussian) of the model : \n",
    "\n",
    "$$ base\\_loss(x) = - ln \\varphi_{\\mu,\\sigma^2}(x)  $$\n",
    "\n",
    "This loss is the natural way to formulate that we want that the distribution corresponds to the observed x.\n",
    "But with this loss, the variation of the loss is inversely proportional to the deviation between x and the median\n",
    "of the distribution (the \"center\", where the loss is minimal). \n",
    "For example if x1 at the position of the quantile(0.9) and if x2 is at \n",
    "quantile(0.99), loss(x1) is more or less the same than loss(x2).\n",
    "We need another loss with the particular goal to discourage the values of x bigger than quantile(0.99) and lower than \n",
    "quantile(0.01). \n",
    "The proposed loss is the following (we can modify obviously the security limit):\n",
    "\n",
    "$$ alt\\_loss(x) = e^{x - quantile(0.995)} + e^{quantile(0.005)-x}$$\n",
    "\n",
    "The loss increase exponentially if x is outside the security window, and is low if x is in the window.\n",
    "\n",
    "In the pre-implemented GluonTs models the only usable loss is $base\\_loss$ but if we create custom models \n",
    "it is possible to modify it. \n",
    "At this time, three custom models (one original, \"Simple\", and the copy of the pre-implemented \"SimpleFeedForward\" and \n",
    "\"CanonicalRNN\") are implemented. Others will come (but some of the models will be difficult to \n",
    " modify, see MQCNN and MQRNN for example). And they uses this loss :\n",
    "\n",
    "$$ custom\\_loss = base\\_loss + \\alpha * alt\\_loss $$\n",
    "\n",
    "With $\\alpha$ a parameter that we will make vary when comparing all the models together.\n",
    "Depending of it value the results will be very different."
   ]
  },
  {
   "cell_type": "code",
   "execution_count": 27,
   "metadata": {
    "pycharm": {
     "is_executing": false,
     "name": "#%%\n"
    }
   },
   "outputs": [
    {
     "data": {
      "text/plain": "<Figure size 432x288 with 1 Axes>",
      "image/png": "[encoded data removed]"
     },
     "metadata": {
      "needs_background": "light"
     },
     "output_type": "display_data"
    }
   ],
   "source": [
    "# Example to show the shape of the custom loss, \n",
    "# here with security quantiles -2 and 2. The value of x is relative to the position of the distribution median\n",
    "x_values = np.arange(-3.5, 3.51, 0.1)\n",
    "y_values = scipy.stats.norm(0, 1)\n",
    "base_loss = -y_values.pdf(x_values)\n",
    "alt_loss = [math.exp(x-2) + math.exp((-2 - x)) for x in x_values]\n",
    "custom_loss = base_loss + [x*0.2 for x in alt_loss]\n",
    "plt.plot(x_values, base_loss)\n",
    "plt.plot(x_values, alt_loss)\n",
    "plt.plot(x_values, custom_loss)\n",
    "plt.legend([\"base_loss\", \"alt_loss\", \"custom_loss\"])\n",
    "plt.show()\n",
    "\n",
    "alphas = [0, 0.7, 0.8, 0.9]\n",
    "alpha = 0.9"
   ]
  },
  {
   "cell_type": "markdown",
   "metadata": {
    "pycharm": {
     "name": "#%% md\n"
    }
   },
   "source": [
    "## Distribution\n",
    "\n",
    "GluonTs proposes different type of output distribution. In most of the models the output is technically\n",
    " a vector of values which is\n",
    "transformed to a vector of distribution parameters and put in a distribution object.\n",
    "We can precise what kind of distribution.\n",
    "Three of them are working for now. Gaussian, Laplace and PiecewiseLinear.\n",
    "Also implemented but not used there are also Student, but it is rejected because we cannot obtain directly the quantiles of the distribution, \n",
    "that we need for the loss, and Uniform but it make the loss problematic.\n",
    "And there are others, more complicated, like the multiple kernel gaussian."
   ]
  },
  {
   "cell_type": "code",
   "execution_count": 28,
   "metadata": {
    "pycharm": {
     "is_executing": false,
     "name": "#%% \n"
    }
   },
   "outputs": [],
   "source": [
    "distributions = [\"Gaussian\", \"Laplace\", \"PiecewiseLinear\" ]\n",
    "distribution = \"Gaussian\""
   ]
  },
  {
   "cell_type": "markdown",
   "metadata": {
    "pycharm": {
     "name": "#%% md\n"
    }
   },
   "source": [
    "# Different models\n",
    "\n",
    "The organisation of the code is (important only) :\n",
    "\n",
    "- 'main.py' equivalent of this notebook\n",
    "- 'comparison.py' all the comparison of models\n",
    "- 'forecast.py' the concrete forecasting part, for all type of models\n",
    "- 'plots' all the possible plots\n",
    "- '/agg_metrics' all the global metrics, saved in .txt files\n",
    "- '/item_metrics' all the metrics per time series, saved in .npy files\n",
    "- '/plots' all plot figures, saved in .png\n",
    "- '/datasets' all the input datasets, not in the github for confidency reasons\n",
    "- '/custom_models' all the custom models\n",
    "\n",
    "All the pre-implemented deep learning models are presented here.\n",
    " In each section we compare the effects of the main parameters on the\n",
    "coverage and bandwidth.\n",
    "There are some global hyper parameters that are not tested here. \n",
    "The size of batch, the learning rate, \n",
    "the number of batches per epochs, the context length.\n",
    "The different models have in general their hyper parameters on which simple comparison is done."
   ]
  },
  {
   "cell_type": "code",
   "execution_count": 29,
   "metadata": {
    "pycharm": {
     "is_executing": false,
     "name": "#%%\n"
    }
   },
   "outputs": [],
   "source": [
    "from comparison import compare_all_models, compare_simple, compare_simple_feed_forward, compare_canonicalrnn, \\\n",
    "    compare_deepar, compare_deepfactor, compare_mqcnn, compare_mqrnn"
   ]
  },
  {
   "cell_type": "markdown",
   "metadata": {
    "pycharm": {
     "name": "#%% md\n"
    }
   },
   "source": [
    "## Example of resulting plots\n",
    "\n",
    "We can see what some of the models give as forecast results.\n",
    "You can modify the number of epochs. 100 is the recommended number in many cases. \n",
    "It is normal that the coverage and bandwidth gives more than the 3 computed results, they use all the saved results.\n",
    "I need to fix the visual. The others comparisons are more clear"
   ]
  },
  {
   "cell_type": "code",
   "execution_count": null,
   "metadata": {
    "pycharm": {
     "is_executing": false,
     "name": "#%%\n"
    }
   },
   "outputs": [],
   "source": [
    "#Compare different models\n",
    "epochs = 10\n",
    "compare_all_models(dataset,[\"Gaussian\"],[0,0.9],[\"cSimple\", \"cSimpleFeedForward\",\"cCanonicalRNN\"],chosen_metric,epochs,True)"
   ]
  },
  {
   "cell_type": "code",
   "execution_count": null,
   "outputs": [],
   "source": [
    "#Compare different alpha\n",
    "compare_all_models(dataset,[\"Gaussian\"],[0.5,10],[\"cSimple\"],chosen_metric,epochs,True)"
   ],
   "metadata": {
    "collapsed": false,
    "pycharm": {
     "name": "#%%\n",
     "is_executing": false
    }
   }
  },
  {
   "cell_type": "markdown",
   "metadata": {
    "pycharm": {
     "name": "#%% md\n"
    }
   },
   "source": [
    "## Simple\n",
    "\n",
    "A model which uses a simple 2 fully connected layers neural network.\n",
    "The tunable parameter is the number of cells in layers"
   ]
  },
  {
   "cell_type": "code",
   "execution_count": null,
   "metadata": {
    "pycharm": {
     "is_executing": false,
     "name": "#%% \n"
    }
   },
   "outputs": [],
   "source": [
    "num_cells = [10, 50, 100, 200, 300]\n",
    "compare_simple(dataset, distribution, alpha, chosen_metric, epochs, num_cells)"
   ]
  },
  {
   "cell_type": "markdown",
   "metadata": {
    "pycharm": {
     "name": "#%% md\n"
    }
   },
   "source": [
    "## FeedForward\n",
    "\n",
    "A simple MLP model.\n",
    "The tunable parameter is the number of hidden nodes in each layer.\n"
   ]
  },
  {
   "cell_type": "code",
   "execution_count": 30,
   "metadata": {
    "pycharm": {
     "is_executing": false,
     "name": "#%%\n"
    }
   },
   "outputs": [
    {
     "name": "stderr",
     "text": [
      "INFO:root:Start model training\n",
      "INFO:root:Epoch[0] Learning rate is 0.001\n",
      "  0%|          | 0/100 [00:00<?, ?it/s]INFO:root:Number of parameters in CustomSimpleFeedForwardTrainingNetwork: 10122\n",
      "100%|██████████| 100/100 [00:01<00:00, 84.89it/s, avg_epoch_loss=3.88e+22]\n",
      "INFO:root:Epoch[0] Elapsed time 1.180 seconds\n",
      "INFO:root:Epoch[0] Evaluation metric 'epoch_loss'=38824129209185121337344.000000\n",
      "INFO:root:Epoch[1] Learning rate is 0.001\n",
      "100%|██████████| 100/100 [00:01<00:00, 89.62it/s, avg_epoch_loss=1.52e+18]\n",
      "INFO:root:Epoch[1] Elapsed time 1.117 seconds\n",
      "INFO:root:Epoch[1] Evaluation metric 'epoch_loss'=1516308373552612608.000000\n",
      "INFO:root:Epoch[2] Learning rate is 0.001\n",
      "100%|██████████| 100/100 [00:01<00:00, 92.73it/s, avg_epoch_loss=6.82e+14]\n",
      "INFO:root:Epoch[2] Elapsed time 1.080 seconds\n",
      "INFO:root:Epoch[2] Evaluation metric 'epoch_loss'=681700216225474.000000\n",
      "INFO:root:Epoch[3] Learning rate is 0.001\n",
      "100%|██████████| 100/100 [00:01<00:00, 93.75it/s, avg_epoch_loss=7.28e+12]\n",
      "INFO:root:Epoch[3] Elapsed time 1.073 seconds\n",
      "INFO:root:Epoch[3] Evaluation metric 'epoch_loss'=7278469017198.482422\n",
      "INFO:root:Epoch[4] Learning rate is 0.001\n",
      "100%|██████████| 100/100 [00:01<00:00, 90.80it/s, avg_epoch_loss=1.43e+13]\n",
      "INFO:root:Epoch[4] Elapsed time 1.105 seconds\n",
      "INFO:root:Epoch[4] Evaluation metric 'epoch_loss'=14257782648083.804688\n",
      "INFO:root:Epoch[5] Learning rate is 0.001\n",
      "100%|██████████| 100/100 [00:01<00:00, 83.79it/s, avg_epoch_loss=7.42e+10]\n",
      "INFO:root:Epoch[5] Elapsed time 1.197 seconds\n",
      "INFO:root:Epoch[5] Evaluation metric 'epoch_loss'=74220742670.675629\n",
      "INFO:root:Epoch[6] Learning rate is 0.001\n",
      "100%|██████████| 100/100 [00:01<00:00, 91.22it/s, avg_epoch_loss=7.83e+9]\n",
      "INFO:root:Epoch[6] Elapsed time 1.098 seconds\n",
      "INFO:root:Epoch[6] Evaluation metric 'epoch_loss'=7834172300.455243\n",
      "INFO:root:Epoch[7] Learning rate is 0.001\n",
      "100%|██████████| 100/100 [00:01<00:00, 89.99it/s, avg_epoch_loss=8.31e+8]\n",
      "INFO:root:Epoch[7] Elapsed time 1.112 seconds\n",
      "INFO:root:Epoch[7] Evaluation metric 'epoch_loss'=830899505.908905\n",
      "INFO:root:Epoch[8] Learning rate is 0.001\n",
      "100%|██████████| 100/100 [00:01<00:00, 90.36it/s, avg_epoch_loss=53.8]\n",
      "INFO:root:Epoch[8] Elapsed time 1.108 seconds\n",
      "INFO:root:Epoch[8] Evaluation metric 'epoch_loss'=53.774769\n",
      "INFO:root:Epoch[9] Learning rate is 0.001\n",
      "100%|██████████| 100/100 [00:01<00:00, 90.55it/s, avg_epoch_loss=15.4]\n",
      "INFO:root:Epoch[9] Elapsed time 1.111 seconds\n",
      "INFO:root:Epoch[9] Evaluation metric 'epoch_loss'=15.430292\n",
      "INFO:root:Loading parameters from best epoch (9)\n",
      "INFO:root:Final loss: 15.430291882038116 (occurred at epoch 9)\n",
      "INFO:root:End model training\n",
      "Running evaluation: 100%|██████████| 183/183 [00:00<00:00, 187.83it/s]\n",
      "Running evaluation: 100%|██████████| 183/183 [00:00<00:00, 195.02it/s]\n",
      "INFO:root:Start model training\n",
      "INFO:root:Epoch[0] Learning rate is 0.001\n",
      "  0%|          | 0/100 [00:00<?, ?it/s]INFO:root:Number of parameters in CustomSimpleFeedForwardTrainingNetwork: 40482\n",
      "100%|██████████| 100/100 [00:01<00:00, 85.94it/s, avg_epoch_loss=2.65e+11]\n",
      "INFO:root:Epoch[0] Elapsed time 1.167 seconds\n",
      "INFO:root:Epoch[0] Evaluation metric 'epoch_loss'=264877901433.338287\n",
      "INFO:root:Epoch[1] Learning rate is 0.001\n",
      "100%|██████████| 100/100 [00:01<00:00, 88.70it/s, avg_epoch_loss=4.13e+4]\n",
      "INFO:root:Epoch[1] Elapsed time 1.131 seconds\n",
      "INFO:root:Epoch[1] Evaluation metric 'epoch_loss'=41346.278300\n",
      "INFO:root:Epoch[2] Learning rate is 0.001\n",
      "100%|██████████| 100/100 [00:01<00:00, 89.93it/s, avg_epoch_loss=14.8]\n",
      "INFO:root:Epoch[2] Elapsed time 1.113 seconds\n",
      "INFO:root:Epoch[2] Evaluation metric 'epoch_loss'=14.767773\n",
      "INFO:root:Epoch[3] Learning rate is 0.001\n",
      "100%|██████████| 100/100 [00:01<00:00, 87.48it/s, avg_epoch_loss=2.14e+6]\n",
      "INFO:root:Epoch[3] Elapsed time 1.148 seconds\n",
      "INFO:root:Epoch[3] Evaluation metric 'epoch_loss'=2137269.230416\n",
      "INFO:root:Epoch[4] Learning rate is 0.001\n",
      "100%|██████████| 100/100 [00:01<00:00, 88.05it/s, avg_epoch_loss=8.2]\n",
      "INFO:root:Epoch[4] Elapsed time 1.137 seconds\n",
      "INFO:root:Epoch[4] Evaluation metric 'epoch_loss'=8.196042\n",
      "INFO:root:Epoch[5] Learning rate is 0.001\n",
      "100%|██████████| 100/100 [00:01<00:00, 90.53it/s, avg_epoch_loss=1.57e+6]\n",
      "INFO:root:Epoch[5] Elapsed time 1.106 seconds\n",
      "INFO:root:Epoch[5] Evaluation metric 'epoch_loss'=1565892.475492\n",
      "INFO:root:Epoch[6] Learning rate is 0.001\n",
      "100%|██████████| 100/100 [00:01<00:00, 90.22it/s, avg_epoch_loss=119]\n",
      "INFO:root:Epoch[6] Elapsed time 1.114 seconds\n",
      "INFO:root:Epoch[6] Evaluation metric 'epoch_loss'=118.860771\n",
      "INFO:root:Epoch[7] Learning rate is 0.001\n",
      "100%|██████████| 100/100 [00:01<00:00, 90.25it/s, avg_epoch_loss=19.3]\n",
      "INFO:root:Epoch[7] Elapsed time 1.114 seconds\n",
      "INFO:root:Epoch[7] Evaluation metric 'epoch_loss'=19.315851\n",
      "INFO:root:Epoch[8] Learning rate is 0.001\n",
      "100%|██████████| 100/100 [00:01<00:00, 87.54it/s, avg_epoch_loss=46.5]\n",
      "INFO:root:Epoch[8] Elapsed time 1.148 seconds\n",
      "INFO:root:Epoch[8] Evaluation metric 'epoch_loss'=46.542680\n",
      "INFO:root:Epoch[9] Learning rate is 0.001\n",
      "100%|██████████| 100/100 [00:01<00:00, 93.88it/s, avg_epoch_loss=46.4]\n",
      "INFO:root:Epoch[9] Elapsed time 1.071 seconds\n",
      "INFO:root:Epoch[9] Evaluation metric 'epoch_loss'=46.363777\n",
      "INFO:root:Loading parameters from best epoch (4)\n",
      "INFO:root:Final loss: 8.196042237758636 (occurred at epoch 4)\n",
      "INFO:root:End model training\n",
      "Running evaluation: 100%|██████████| 183/183 [00:01<00:00, 170.98it/s]\n",
      "Running evaluation: 100%|██████████| 183/183 [00:00<00:00, 197.99it/s]\n",
      "INFO:root:Start model training\n",
      "INFO:root:Epoch[0] Learning rate is 0.001\n",
      "  0%|          | 0/100 [00:00<?, ?it/s]INFO:root:Number of parameters in CustomSimpleFeedForwardTrainingNetwork: 20522\n",
      "100%|██████████| 100/100 [00:01<00:00, 87.49it/s, avg_epoch_loss=174]\n",
      "INFO:root:Epoch[0] Elapsed time 1.144 seconds\n",
      "INFO:root:Epoch[0] Evaluation metric 'epoch_loss'=174.128203\n",
      "INFO:root:Epoch[1] Learning rate is 0.001\n",
      "100%|██████████| 100/100 [00:01<00:00, 89.95it/s, avg_epoch_loss=7.37]\n",
      "INFO:root:Epoch[1] Elapsed time 1.113 seconds\n",
      "INFO:root:Epoch[1] Evaluation metric 'epoch_loss'=7.365757\n",
      "INFO:root:Epoch[2] Learning rate is 0.001\n",
      "100%|██████████| 100/100 [00:01<00:00, 90.21it/s, avg_epoch_loss=1.31]\n",
      "INFO:root:Epoch[2] Elapsed time 1.112 seconds\n",
      "INFO:root:Epoch[2] Evaluation metric 'epoch_loss'=1.313995\n",
      "INFO:root:Epoch[3] Learning rate is 0.001\n",
      "100%|██████████| 100/100 [00:01<00:00, 87.01it/s, avg_epoch_loss=1.2]\n",
      "INFO:root:Epoch[3] Elapsed time 1.150 seconds\n",
      "INFO:root:Epoch[3] Evaluation metric 'epoch_loss'=1.201162\n",
      "INFO:root:Epoch[4] Learning rate is 0.001\n",
      "100%|██████████| 100/100 [00:01<00:00, 89.01it/s, avg_epoch_loss=3.15]\n",
      "INFO:root:Epoch[4] Elapsed time 1.125 seconds\n",
      "INFO:root:Epoch[4] Evaluation metric 'epoch_loss'=3.154247\n",
      "INFO:root:Epoch[5] Learning rate is 0.001\n",
      "100%|██████████| 100/100 [00:01<00:00, 88.73it/s, avg_epoch_loss=1.14]\n",
      "INFO:root:Epoch[5] Elapsed time 1.133 seconds\n",
      "INFO:root:Epoch[5] Evaluation metric 'epoch_loss'=1.137422\n",
      "INFO:root:Epoch[6] Learning rate is 0.001\n",
      "100%|██████████| 100/100 [00:01<00:00, 80.00it/s, avg_epoch_loss=1.62]\n",
      "INFO:root:Epoch[6] Elapsed time 1.253 seconds\n",
      "INFO:root:Epoch[6] Evaluation metric 'epoch_loss'=1.623241\n",
      "INFO:root:Epoch[7] Learning rate is 0.001\n",
      "100%|██████████| 100/100 [00:01<00:00, 74.41it/s, avg_epoch_loss=1.29]\n",
      "INFO:root:Epoch[7] Elapsed time 1.356 seconds\n",
      "INFO:root:Epoch[7] Evaluation metric 'epoch_loss'=1.294213\n",
      "INFO:root:Epoch[8] Learning rate is 0.001\n",
      "100%|██████████| 100/100 [00:01<00:00, 65.09it/s, avg_epoch_loss=1.17]\n",
      "INFO:root:Epoch[8] Elapsed time 1.539 seconds\n",
      "INFO:root:Epoch[8] Evaluation metric 'epoch_loss'=1.174997\n",
      "INFO:root:Epoch[9] Learning rate is 0.001\n",
      "100%|██████████| 100/100 [00:01<00:00, 74.76it/s, avg_epoch_loss=1.11]\n",
      "INFO:root:Epoch[9] Elapsed time 1.342 seconds\n",
      "INFO:root:Epoch[9] Evaluation metric 'epoch_loss'=1.114793\n",
      "INFO:root:Loading parameters from best epoch (9)\n",
      "INFO:root:Final loss: 1.1147931113243104 (occurred at epoch 9)\n",
      "INFO:root:End model training\n",
      "Running evaluation: 100%|██████████| 183/183 [00:01<00:00, 170.24it/s]\n",
      "Running evaluation: 100%|██████████| 183/183 [00:01<00:00, 178.75it/s]\n",
      "INFO:root:Start model training\n",
      "INFO:root:Epoch[0] Learning rate is 0.001\n",
      "  0%|          | 0/100 [00:00<?, ?it/s]INFO:root:Number of parameters in CustomSimpleFeedForwardTrainingNetwork: 22162\n",
      "100%|██████████| 100/100 [00:01<00:00, 66.16it/s, avg_epoch_loss=2.75]\n",
      "INFO:root:Epoch[0] Elapsed time 1.519 seconds\n",
      "INFO:root:Epoch[0] Evaluation metric 'epoch_loss'=2.750502\n",
      "INFO:root:Epoch[1] Learning rate is 0.001\n",
      "100%|██████████| 100/100 [00:01<00:00, 81.45it/s, avg_epoch_loss=1.69]\n",
      "INFO:root:Epoch[1] Elapsed time 1.229 seconds\n",
      "INFO:root:Epoch[1] Evaluation metric 'epoch_loss'=1.689182\n",
      "INFO:root:Epoch[2] Learning rate is 0.001\n",
      "100%|██████████| 100/100 [00:01<00:00, 87.58it/s, avg_epoch_loss=1.23]\n",
      "INFO:root:Epoch[2] Elapsed time 1.143 seconds\n",
      "INFO:root:Epoch[2] Evaluation metric 'epoch_loss'=1.231852\n",
      "INFO:root:Epoch[3] Learning rate is 0.001\n",
      "100%|██████████| 100/100 [00:01<00:00, 78.43it/s, avg_epoch_loss=1.14]\n",
      "INFO:root:Epoch[3] Elapsed time 1.276 seconds\n",
      "INFO:root:Epoch[3] Evaluation metric 'epoch_loss'=1.143931\n",
      "INFO:root:Epoch[4] Learning rate is 0.001\n",
      "100%|██████████| 100/100 [00:01<00:00, 85.76it/s, avg_epoch_loss=1.18]\n",
      "INFO:root:Epoch[4] Elapsed time 1.167 seconds\n",
      "INFO:root:Epoch[4] Evaluation metric 'epoch_loss'=1.176918\n",
      "INFO:root:Epoch[5] Learning rate is 0.001\n",
      "100%|██████████| 100/100 [00:01<00:00, 86.71it/s, avg_epoch_loss=1.06]\n",
      "INFO:root:Epoch[5] Elapsed time 1.162 seconds\n",
      "INFO:root:Epoch[5] Evaluation metric 'epoch_loss'=1.062789\n",
      "INFO:root:Epoch[6] Learning rate is 0.001\n",
      "100%|██████████| 100/100 [00:01<00:00, 83.94it/s, avg_epoch_loss=1.14]\n",
      "INFO:root:Epoch[6] Elapsed time 1.195 seconds\n",
      "INFO:root:Epoch[6] Evaluation metric 'epoch_loss'=1.138739\n",
      "INFO:root:Epoch[7] Learning rate is 0.001\n",
      "100%|██████████| 100/100 [00:01<00:00, 85.93it/s, avg_epoch_loss=1.03]\n",
      "INFO:root:Epoch[7] Elapsed time 1.174 seconds\n",
      "INFO:root:Epoch[7] Evaluation metric 'epoch_loss'=1.025838\n",
      "INFO:root:Epoch[8] Learning rate is 0.001\n",
      "100%|██████████| 100/100 [00:01<00:00, 84.03it/s, avg_epoch_loss=1.24]\n",
      "INFO:root:Epoch[8] Elapsed time 1.191 seconds\n",
      "INFO:root:Epoch[8] Evaluation metric 'epoch_loss'=1.237979\n",
      "INFO:root:Epoch[9] Learning rate is 0.001\n",
      "100%|██████████| 100/100 [00:01<00:00, 85.82it/s, avg_epoch_loss=1.07]\n",
      "INFO:root:Epoch[9] Elapsed time 1.167 seconds\n",
      "INFO:root:Epoch[9] Evaluation metric 'epoch_loss'=1.072767\n",
      "INFO:root:Loading parameters from best epoch (7)\n",
      "INFO:root:Final loss: 1.0258378682136535 (occurred at epoch 7)\n",
      "INFO:root:End model training\n",
      "Running evaluation: 100%|██████████| 183/183 [00:00<00:00, 188.95it/s]\n",
      "Running evaluation: 100%|██████████| 183/183 [00:00<00:00, 195.47it/s]\n"
     ],
     "output_type": "stream"
    },
    {
     "data": {
      "text/plain": "<Figure size 432x288 with 1 Axes>",
      "image/png": "[encoded data removed]"
     },
     "metadata": {
      "needs_background": "light"
     },
     "output_type": "display_data"
    },
    {
     "data": {
      "text/plain": "<Figure size 432x288 with 1 Axes>",
      "image/png": "[encoded data removed]"
     },
     "metadata": {
      "needs_background": "light"
     },
     "output_type": "display_data"
    }
   ],
   "source": [
    "num_hidden_dimensions = [[10], [40], [40, 40], [40, 40, 40]]\n",
    "compare_simple_feed_forward(dataset, distribution, alpha, chosen_metric, epochs, num_hidden_dimensions)"
   ]
  },
  {
   "cell_type": "markdown",
   "metadata": {
    "pycharm": {
     "name": "#%% md\n"
    }
   },
   "source": [
    "## Recurrent Neural Network\n",
    "\n",
    "A model which uses a recurrent neural network.\n",
    "The tunable parameters are the number of layers and number of cells of the network"
   ]
  },
  {
   "cell_type": "code",
   "execution_count": null,
   "metadata": {
    "pycharm": {
     "is_executing": false,
     "name": "#%%\n"
    }
   },
   "outputs": [],
   "source": [
    "# Other parameters : num_cells and embedding dimensions\n",
    "num_layers = [1, 2, 5, 10]\n",
    "num_cells = [20,50,100]\n",
    "compare_canonicalrnn(dataset, distribution, alpha, chosen_metric, epochs, \"n_layers\", num_layers)\n",
    "compare_canonicalrnn(dataset, distribution, alpha, chosen_metric, epochs, \"n_cells\", num_cells)"
   ]
  },
  {
   "cell_type": "markdown",
   "metadata": {
    "pycharm": {
     "name": "#%% md\n"
    }
   },
   "source": [
    "## Deep Ar\n",
    "\n",
    "Implementation of DeepAr estimator, a RNN based model, close to the one described in paper \n",
    "[\"DeepAR: Probabilistic Forecasting with Autoregressive Recurrent Networks\" ](https://arxiv.org/abs/1704.04110)\n",
    "The tunable parameters are the same that for CanonicalRNN"
   ]
  },
  {
   "cell_type": "code",
   "execution_count": null,
   "metadata": {
    "pycharm": {
     "is_executing": false,
     "name": "#%%\n"
    }
   },
   "outputs": [],
   "source": [
    "num_layers = [1, 2, 5, 10]\n",
    "num_cells = [20,40,50,100]\n",
    "compare_deepar(dataset,distribution,alpha,chosen_metric,epochs,\"n_layers\",num_layers)\n",
    "compare_deepar(dataset,distribution,alpha,chosen_metric,epochs,\"n_cells\",num_cells)"
   ]
  },
  {
   "cell_type": "markdown",
   "metadata": {
    "pycharm": {
     "name": "#%% md\n"
    }
   },
   "source": [
    "## Deep Factors\n",
    "\n",
    "Implementation of the 2019 ICML paper [“Deep Factors for Forecasting”](https://arxiv.org/abs/1905.12417)\n",
    "It uses a global RNN model to learn patterns across multiple related time series and an arbitrary local model to model the time series on a per time series basis. \n",
    "In the current implementation, the local model is a RNN (DF-RNN).\n",
    "The tunable parameters are the number of units per hidden layers and the number of layers in the global model\n",
    ", the number of global factors. We could also add the number of units and layers in the local model."
   ]
  },
  {
   "cell_type": "code",
   "execution_count": null,
   "metadata": {
    "pycharm": {
     "is_executing": false,
     "name": "#%%\n"
    }
   },
   "outputs": [],
   "source": [
    "num_hidden_global = [20,50,100]\n",
    "num_layers_global = [1, 2, 5]\n",
    "num_factors = [5, 10, 20]\n",
    "compare_deepfactor(dataset,distribution,alpha,chosen_metric,epochs,\"n_hidden_global\",num_hidden_global)\n",
    "compare_deepfactor(dataset,distribution,alpha,chosen_metric,epochs,\"n_layers_global\",num_layers_global)\n",
    "compare_deepfactor(dataset,distribution,alpha,chosen_metric,epochs,\"n_factors\",num_factors)"
   ]
  },
  {
   "cell_type": "markdown",
   "metadata": {
    "pycharm": {
     "name": "#%% md\n"
    }
   },
   "source": [
    "## Gaussian Process\n",
    "\n",
    "Model using Gaussian Processes (GP).\n",
    "Each time series has a GP.\n",
    "There are no parameters easy to tune"
   ]
  },
  {
   "cell_type": "markdown",
   "metadata": {
    "pycharm": {
     "name": "#%% md\n"
    }
   },
   "source": [
    "## NPTS\n",
    "\n",
    "Implementation of the Non-Parametric Time Series Forecaster, \n",
    "which falls into the class of simple forecasters that use one of the past observed targets as the forecast for \n",
    "the current time step. It randomly samples a past time index as the prediction for the time step T (it is \n",
    "an auto regressive model which predict time steps one by one). \n",
    "There are no parameters to tune, but some variant are possible.\n"
   ]
  },
  {
   "cell_type": "markdown",
   "metadata": {
    "pycharm": {
     "name": "#%% md\n"
    }
   },
   "source": [
    "## MQCNN\n",
    "\n",
    "Discriminative Sequence to Sequence model made using the SeqtoSeq framework of GluonTS to reproduce the model of the \n",
    "paper [A Multi-Horizon Quantile Recurrent Forecaster](https://arxiv.org/abs/1711.11053).\n",
    "Sequence to sequence models are composed of two parts. The encoder network, that reads in a certain context of the training range of the time series \n",
    "and encodes information about  the  sequence  in  a  latent  state.\n",
    "And the decoder network, which generates the forecast by combining the latent information with the features in the prediction range\n",
    "In MQCNN the encoder is a Convolutionnal Neural Network and the decoder an mlp model. The output\n",
    "is not technically a  distribution but the quantiles itself, that are predicted values obtain by optimizing\n",
    "the corresponding quantile loss (In general in a deterministic world if you train a model with as loss the quantile\n",
    "loss [0.9], you will obtain the line representing the quantile [0.9])\n",
    "The tunable parameter is the  dimension of the mlp decoder.\n",
    "A problem with the seqtoseq models is that we cannot use directly the custom loss. A investigation is \n",
    "needed on how do the same kind of modification of the loss."
   ]
  },
  {
   "cell_type": "code",
   "execution_count": null,
   "metadata": {
    "pycharm": {
     "is_executing": false,
     "name": "#%%\n"
    }
   },
   "outputs": [],
   "source": [
    "mlp_final_dim = [10,20,30]\n",
    "compare_mqcnn(dataset, distribution, alpha, chosen_metric, epochs, mlp_final_dim)"
   ]
  },
  {
   "cell_type": "markdown",
   "metadata": {
    "pycharm": {
     "name": "#%% md\n"
    }
   },
   "source": [
    "## MQRNN\n",
    "\n",
    "Same as MQCNN but with a Recurrent Neural Network encoder."
   ]
  },
  {
   "cell_type": "code",
   "execution_count": null,
   "metadata": {
    "pycharm": {
     "is_executing": false,
     "name": "#%%\n"
    }
   },
   "outputs": [],
   "source": [
    "mlp_final_dim = [10,20,30]\n",
    "compare_mqrnn(dataset, distribution, alpha, chosen_metric, epochs, mlp_final_dim)"
   ]
  },
  {
   "cell_type": "markdown",
   "metadata": {},
   "source": [
    "## Global comparison\n",
    "\n",
    "Here is the comparison of all models, for different alphas and distribution output type\n",
    " with all the presented models in addition of two models not using deep learning\n",
    "(the R package that allows in GluonTS to use non-deep learning well known models, here ETS, and seasonal naive)."
   ]
  },
  {
   "cell_type": "code",
   "execution_count": null,
   "metadata": {
    "pycharm": {
     "is_executing": false,
     "name": "#%%\n"
    }
   },
   "outputs": [],
   "source": [
    "models = [\"cSimple\", \"cSimpleFeedForward\", \"cCanonicalRNN\", \"DeepAr\", \"DeepFactor\", \"GaussianProcess\", \"NPTS\", \"MQCNN\", \"MQRNN\", \"R\", \"SeasonalNaive\"]\n",
    "compare_all_models(dataset, distributions, alphas, models, chosen_metric, epochs,False)\n",
    " "
   ]
  },
  {
   "cell_type": "markdown",
   "metadata": {
    "pycharm": {
     "name": "#%% md\n"
    }
   },
   "source": [
    "# Other plots implemented\n",
    "\n",
    "## metrics by time series\n",
    "\n",
    "We can obtain the item metrics, i.e. the metrics for each time series instead of the global metrics for all time\n",
    "series. These metrics can be plot as histogram of metric values, to see the repartition of values in the 183 time\n",
    "series. This not works  for all metrics, for coverage the results are not precise. An example is the MSE for the \n",
    "three first models. "
   ]
  },
  {
   "cell_type": "code",
   "execution_count": null,
   "metadata": {
    "pycharm": {
     "is_executing": false,
     "name": "#%%md\n"
    }
   },
   "outputs": [],
   "source": [
    "from plots import plot_distr_params, hist_plot_item_metrics\n",
    "compare_all_models(dataset, [\"Gaussian\"], [0.9], [\"cSimple\", \"cSimpleFeedForward\",\"cCanonicalRNN\"], \"MSE\", epochs,False)\n",
    "hist_plot_item_metrics(\"MSE\", [\"cSimple\", \"cSimpleFeedForward\",\"cCanonicalRNN\"], )  "
   ]
  },
  {
   "cell_type": "markdown",
   "metadata": {
    "pycharm": {
     "name": "#%% md\n"
    }
   },
   "source": [
    "## distribution information\n",
    "Not working for an unknown reason. \n",
    "\n",
    "In the custom models we save the exact parameters of output distribution. We can plot the values here. \n",
    "For the SeqtoSeq models, the quantiles are directly saved. And not plotted."
   ]
  },
  {
   "cell_type": "code",
   "execution_count": null,
   "metadata": {
    "pycharm": {
     "is_executing": false,
     "name": "#%%\n"
    }
   },
   "outputs": [],
   "source": [
    "plot_distr_params([\"cSimple\", \"cSimpleFeedForward\",\"cCanonicalRNN\"], [0], distributions) \n"
   ]
  }
 ],
 "metadata": {
  "kernelspec": {
   "display_name": "Python 3",
   "language": "python",
   "name": "python3"
  },
  "language_info": {
   "codemirror_mode": {
    "name": "ipython",
    "version": 3
   },
   "file_extension": ".py",
   "mimetype": "text/x-python",
   "name": "python",
   "nbconvert_exporter": "python",
   "pygments_lexer": "ipython3",
   "version": "3.7.6"
  },
  "pycharm": {
   "stem_cell": {
    "cell_type": "raw",
    "source": [],
    "metadata": {
     "collapsed": false
    }
   }
  }
 },
 "nbformat": 4,
 "nbformat_minor": 1
}